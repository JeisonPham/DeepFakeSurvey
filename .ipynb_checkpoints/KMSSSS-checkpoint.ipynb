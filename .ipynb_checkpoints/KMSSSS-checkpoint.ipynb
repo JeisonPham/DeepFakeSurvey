{
 "cells": [
  {
   "cell_type": "code",
   "execution_count": 9,
   "metadata": {
    "colab": {},
    "colab_type": "code",
    "id": "KKOd_mIs9cp6"
   },
   "outputs": [
    {
     "name": "stdout",
     "output_type": "stream",
     "text": [
      "Requirement already satisfied: pillow in /Users/jeison/miniconda3/envs/keras/lib/python3.6/site-packages (6.2.1)\n",
      "Processing /Users/jeison/Library/Caches/pip/wheels/76/03/bb/589d421d27431bcd2c6da284d5f2286c8e3b2ea3cf1594c074/sklearn-0.0-py2.py3-none-any.whl\n",
      "Collecting scikit-learn\n",
      "  Using cached https://files.pythonhosted.org/packages/cf/b8/706e496d8b1207c1da154a7fe82753a2385edc1435ec524afa6c1baafed6/scikit_learn-0.21.3-cp36-cp36m-macosx_10_6_intel.macosx_10_9_intel.macosx_10_9_x86_64.macosx_10_10_intel.macosx_10_10_x86_64.whl\n",
      "Collecting joblib>=0.11\n",
      "\u001b[?25l  Downloading https://files.pythonhosted.org/packages/8f/42/155696f85f344c066e17af287359c9786b436b1bf86029bb3411283274f3/joblib-0.14.0-py2.py3-none-any.whl (294kB)\n",
      "\u001b[K     |████████████████████████████████| 296kB 5.0MB/s eta 0:00:01\n",
      "\u001b[?25hRequirement already satisfied: scipy>=0.17.0 in /Users/jeison/miniconda3/envs/keras/lib/python3.6/site-packages (from scikit-learn->sklearn) (1.3.1)\n",
      "Requirement already satisfied: numpy>=1.11.0 in /Users/jeison/miniconda3/envs/keras/lib/python3.6/site-packages (from scikit-learn->sklearn) (1.17.3)\n",
      "Installing collected packages: joblib, scikit-learn, sklearn\n",
      "Successfully installed joblib-0.14.0 scikit-learn-0.21.3 sklearn-0.0\n"
     ]
    }
   ],
   "source": [
    "\n",
    "!pip install -q matplot\n",
    "!pip install pillow\n",
    "!pip install sklearn"
   ]
  },
  {
   "cell_type": "code",
   "execution_count": 10,
   "metadata": {
    "colab": {},
    "colab_type": "code",
    "id": "rultvq_Z9398"
   },
   "outputs": [],
   "source": [
    "import keras\n",
    "import random\n",
    "import os\n",
    "import cv2\n",
    "from random import randint\n",
    "# from google.colab.patches import cv2_imshow\n",
    "import numpy as np\n",
    "import matplotlib\n",
    "from PIL import Image\n",
    "from sklearn.model_selection import train_test_split\n",
    "from keras.datasets import mnist\n",
    "from keras.layers import Convolution2D, MaxPooling2D\n",
    "from keras.layers import Dense, Dropout, Activation, Flatten\n",
    "from keras.utils import np_utils\n",
    "from keras.models import model_from_json\n",
    "from matplotlib import pyplot as plt\n",
    "\n",
    "picture_width = 128\n",
    "picture_height = 128"
   ]
  },
  {
   "cell_type": "code",
   "execution_count": 20,
   "metadata": {
    "colab": {},
    "colab_type": "code",
    "id": "_yJd1Ini954f"
   },
   "outputs": [],
   "source": [
    "def load_images(colorspace):\n",
    "  DATADIR = 'real_and_fake_face'\n",
    "  CATEGORIES = ['training_fake', 'training_real']\n",
    "\n",
    "  temp1 = []\n",
    "  temp2 = []\n",
    "  for category in CATEGORIES:\n",
    "    path = os.path.join(DATADIR, category)\n",
    "    for img in os.listdir(path):\n",
    "      if 'training_real' in path:\n",
    "        ans = 1\n",
    "      else:\n",
    "        ans = 0\n",
    "      (images, answers) = (cv2.imread(os.path.join(path, img)), ans)\n",
    "      images = cv2.cvtColor(images, colorspace)\n",
    "      images = cv2.resize(images, (picture_width, picture_height), interpolation=cv2.INTER_AREA)\n",
    "      images = cv2.normalize(images, None, alpha=0, beta=1, norm_type=cv2.NORM_MINMAX, dtype=cv2.CV_32F)\n",
    "      \n",
    "      temp1.append(images)\n",
    "      temp2.append(answers)\n",
    "  \n",
    "  \n",
    "  \n",
    "  return (temp1, temp2)\n",
    "  \n",
    "  "
   ]
  },
  {
   "cell_type": "code",
   "execution_count": 21,
   "metadata": {
    "colab": {},
    "colab_type": "code",
    "id": "NNEJQRwd99x5"
   },
   "outputs": [],
   "source": [
    "def save_model(mdl, name):\n",
    "  model_json = mdl.to_json()\n",
    "  with open(\"model_{}.json\".format(name), \"w\") as json_file:\n",
    "    json_file.write(model_json)\n",
    "  mdl.save_weights(\"model.h5\")\n",
    "  return\n",
    "\n",
    "def load_model(name):\n",
    "  json_file = open('model.json', 'r')\n",
    "  loaded_model_json = json_file.read()\n",
    "  json_file.close()\n",
    "  loaded_model = model_from_json(loaded_model_json)\n",
    "  # load weights into new model\n",
    "  loaded_model.load_weights(\"model.h5\")\n",
    "  return loaded_model"
   ]
  },
  {
   "cell_type": "code",
   "execution_count": 22,
   "metadata": {
    "colab": {
     "base_uri": "https://localhost:8080/",
     "height": 85
    },
    "colab_type": "code",
    "id": "U3g8Nb8I9-w7",
    "outputId": "a479f5e2-5ca9-4b08-ec8c-4bbddd212f4a"
   },
   "outputs": [
    {
     "name": "stdout",
     "output_type": "stream",
     "text": [
      "(1632, 128, 128, 3)\n",
      "[1 1 1 1 1 0 0 1 1 1 1 0 1 1 0 1 1 1 1 1 0 0 1 1 1 1 0 1 0 0 0 0 0 1 1 0 1\n",
      " 0 1 1 1 1 0 1 0 0 1 0 0 1 1 1 0 1 0 0 0 0 0 1 0 0 0 1 0 1 1 0 0 0 1 0 1 1\n",
      " 0 1 0 0 0 0 0 0 0 0 0 1 0 0 1 0 0 0 1 1 0 0 0 0 0 0]\n"
     ]
    },
    {
     "name": "stderr",
     "output_type": "stream",
     "text": [
      "/Users/jeison/miniconda3/envs/keras/lib/python3.6/site-packages/ipykernel_launcher.py:19: UserWarning: Update your `Conv2D` call to the Keras 2 API: `Conv2D(28, (2, 2), activation=\"relu\")`\n",
      "/Users/jeison/miniconda3/envs/keras/lib/python3.6/site-packages/ipykernel_launcher.py:31: UserWarning: The `nb_epoch` argument in `fit` has been renamed `epochs`.\n"
     ]
    },
    {
     "name": "stdout",
     "output_type": "stream",
     "text": [
      "Epoch 1/50\n",
      "1632/1632 [==============================] - 3s 2ms/step - loss: 0.6981 - accuracy: 0.5270\n",
      "Epoch 2/50\n",
      "1632/1632 [==============================] - 3s 2ms/step - loss: 0.6916 - accuracy: 0.5202\n",
      "Epoch 3/50\n",
      "1632/1632 [==============================] - 3s 2ms/step - loss: 0.6894 - accuracy: 0.5294\n",
      "Epoch 4/50\n",
      "1632/1632 [==============================] - 3s 2ms/step - loss: 0.6905 - accuracy: 0.5411\n",
      "Epoch 5/50\n",
      "1632/1632 [==============================] - 3s 2ms/step - loss: 0.6860 - accuracy: 0.5570\n",
      "Epoch 6/50\n",
      "1632/1632 [==============================] - 3s 2ms/step - loss: 0.6840 - accuracy: 0.5705\n",
      "Epoch 7/50\n",
      "1632/1632 [==============================] - 3s 2ms/step - loss: 0.6818 - accuracy: 0.5650\n",
      "Epoch 8/50\n",
      "1632/1632 [==============================] - 3s 2ms/step - loss: 0.6812 - accuracy: 0.5619\n",
      "Epoch 9/50\n",
      "1632/1632 [==============================] - 3s 2ms/step - loss: 0.6792 - accuracy: 0.5686\n",
      "Epoch 10/50\n",
      "1632/1632 [==============================] - 3s 2ms/step - loss: 0.6737 - accuracy: 0.5748\n",
      "Epoch 11/50\n",
      "1632/1632 [==============================] - 3s 2ms/step - loss: 0.6751 - accuracy: 0.5938\n",
      "Epoch 12/50\n",
      "1632/1632 [==============================] - 3s 2ms/step - loss: 0.6725 - accuracy: 0.5809\n",
      "Epoch 13/50\n",
      "1632/1632 [==============================] - 3s 2ms/step - loss: 0.6688 - accuracy: 0.5956\n",
      "Epoch 14/50\n",
      "1632/1632 [==============================] - 3s 2ms/step - loss: 0.6667 - accuracy: 0.5931\n",
      "Epoch 15/50\n",
      "1632/1632 [==============================] - 3s 2ms/step - loss: 0.6644 - accuracy: 0.6115\n",
      "Epoch 16/50\n",
      "1632/1632 [==============================] - 3s 2ms/step - loss: 0.6636 - accuracy: 0.6164\n",
      "Epoch 17/50\n",
      "1632/1632 [==============================] - 4s 2ms/step - loss: 0.6585 - accuracy: 0.6066\n",
      "Epoch 18/50\n",
      "1632/1632 [==============================] - 4s 2ms/step - loss: 0.6619 - accuracy: 0.6072\n",
      "Epoch 19/50\n",
      "1632/1632 [==============================] - 4s 2ms/step - loss: 0.6561 - accuracy: 0.6170\n",
      "Epoch 20/50\n",
      "1632/1632 [==============================] - 4s 2ms/step - loss: 0.6507 - accuracy: 0.6170\n",
      "Epoch 21/50\n",
      "1632/1632 [==============================] - 4s 2ms/step - loss: 0.6510 - accuracy: 0.6170\n",
      "Epoch 22/50\n",
      "1632/1632 [==============================] - 4s 2ms/step - loss: 0.6507 - accuracy: 0.6281\n",
      "Epoch 23/50\n",
      "1632/1632 [==============================] - 3s 2ms/step - loss: 0.6530 - accuracy: 0.6164\n",
      "Epoch 24/50\n",
      "1632/1632 [==============================] - 3s 2ms/step - loss: 0.6506 - accuracy: 0.6207\n",
      "Epoch 25/50\n",
      "1632/1632 [==============================] - 3s 2ms/step - loss: 0.6465 - accuracy: 0.6219\n",
      "Epoch 26/50\n",
      "1632/1632 [==============================] - 3s 2ms/step - loss: 0.6452 - accuracy: 0.6391\n",
      "Epoch 27/50\n",
      "1632/1632 [==============================] - 4s 2ms/step - loss: 0.6443 - accuracy: 0.6348\n",
      "Epoch 28/50\n",
      "1632/1632 [==============================] - 4s 2ms/step - loss: 0.6385 - accuracy: 0.6471\n",
      "Epoch 29/50\n",
      "1632/1632 [==============================] - 4s 2ms/step - loss: 0.6379 - accuracy: 0.6348\n",
      "Epoch 30/50\n",
      "1632/1632 [==============================] - 4s 2ms/step - loss: 0.6369 - accuracy: 0.6415\n",
      "Epoch 31/50\n",
      "1632/1632 [==============================] - 4s 2ms/step - loss: 0.6332 - accuracy: 0.6562\n",
      "Epoch 32/50\n",
      "1632/1632 [==============================] - 4s 2ms/step - loss: 0.6360 - accuracy: 0.6458\n",
      "Epoch 33/50\n",
      "1632/1632 [==============================] - 3s 2ms/step - loss: 0.6282 - accuracy: 0.6428\n",
      "Epoch 34/50\n",
      "1632/1632 [==============================] - 3s 2ms/step - loss: 0.6200 - accuracy: 0.6642\n",
      "Epoch 35/50\n",
      "1632/1632 [==============================] - 4s 2ms/step - loss: 0.6315 - accuracy: 0.6532\n",
      "Epoch 36/50\n",
      "1632/1632 [==============================] - 3s 2ms/step - loss: 0.6268 - accuracy: 0.6526\n",
      "Epoch 37/50\n",
      "1632/1632 [==============================] - 3s 2ms/step - loss: 0.6246 - accuracy: 0.6550\n",
      "Epoch 38/50\n",
      "1632/1632 [==============================] - 3s 2ms/step - loss: 0.6228 - accuracy: 0.6599: 0s - loss: 0.6130 \n",
      "Epoch 39/50\n",
      "1632/1632 [==============================] - 4s 3ms/step - loss: 0.6206 - accuracy: 0.6562\n",
      "Epoch 40/50\n",
      "1632/1632 [==============================] - 3s 2ms/step - loss: 0.6117 - accuracy: 0.6679\n",
      "Epoch 41/50\n",
      "1632/1632 [==============================] - 3s 2ms/step - loss: 0.6131 - accuracy: 0.6667\n",
      "Epoch 42/50\n",
      "1632/1632 [==============================] - 3s 2ms/step - loss: 0.6088 - accuracy: 0.6703\n",
      "Epoch 43/50\n",
      "1632/1632 [==============================] - 3s 2ms/step - loss: 0.6090 - accuracy: 0.6691\n",
      "Epoch 44/50\n",
      "1632/1632 [==============================] - 4s 2ms/step - loss: 0.6083 - accuracy: 0.6710\n",
      "Epoch 45/50\n",
      "1632/1632 [==============================] - 3s 2ms/step - loss: 0.6103 - accuracy: 0.6752\n",
      "Epoch 46/50\n",
      "1632/1632 [==============================] - 4s 2ms/step - loss: 0.6026 - accuracy: 0.6673\n",
      "Epoch 47/50\n",
      "1632/1632 [==============================] - 4s 2ms/step - loss: 0.6051 - accuracy: 0.6795\n",
      "Epoch 48/50\n",
      "1632/1632 [==============================] - 3s 2ms/step - loss: 0.5958 - accuracy: 0.6869\n",
      "Epoch 49/50\n",
      "1632/1632 [==============================] - 3s 2ms/step - loss: 0.5958 - accuracy: 0.6789\n",
      "Epoch 50/50\n",
      "1632/1632 [==============================] - 3s 2ms/step - loss: 0.5914 - accuracy: 0.6893\n"
     ]
    },
    {
     "ename": "AttributeError",
     "evalue": "'list' object has no attribute 'join'",
     "output_type": "error",
     "traceback": [
      "\u001b[0;31m---------------------------------------------------------------------------\u001b[0m",
      "\u001b[0;31mAttributeError\u001b[0m                            Traceback (most recent call last)",
      "\u001b[0;32m<ipython-input-22-8cee85afdd7d>\u001b[0m in \u001b[0;36m<module>\u001b[0;34m\u001b[0m\n\u001b[1;32m     31\u001b[0m     \u001b[0mmdl\u001b[0m\u001b[0;34m.\u001b[0m\u001b[0mfit\u001b[0m\u001b[0;34m(\u001b[0m\u001b[0mtrain_X\u001b[0m\u001b[0;34m,\u001b[0m \u001b[0mtrain_Y\u001b[0m\u001b[0;34m,\u001b[0m \u001b[0mbatch_size\u001b[0m\u001b[0;34m=\u001b[0m\u001b[0;36m32\u001b[0m\u001b[0;34m,\u001b[0m \u001b[0mnb_epoch\u001b[0m\u001b[0;34m=\u001b[0m\u001b[0;36m50\u001b[0m\u001b[0;34m,\u001b[0m \u001b[0mverbose\u001b[0m\u001b[0;34m=\u001b[0m\u001b[0;36m1\u001b[0m\u001b[0;34m)\u001b[0m\u001b[0;34m\u001b[0m\u001b[0;34m\u001b[0m\u001b[0m\n\u001b[1;32m     32\u001b[0m     \u001b[0mresults\u001b[0m \u001b[0;34m=\u001b[0m \u001b[0mmdl\u001b[0m\u001b[0;34m.\u001b[0m\u001b[0mevaluate\u001b[0m\u001b[0;34m(\u001b[0m\u001b[0mtest_X\u001b[0m\u001b[0;34m,\u001b[0m \u001b[0mtest_Y\u001b[0m\u001b[0;34m,\u001b[0m \u001b[0mverbose\u001b[0m\u001b[0;34m=\u001b[0m\u001b[0;36m0\u001b[0m\u001b[0;34m)\u001b[0m\u001b[0;34m\u001b[0m\u001b[0;34m\u001b[0m\u001b[0m\n\u001b[0;32m---> 33\u001b[0;31m     \u001b[0msave_model\u001b[0m\u001b[0;34m(\u001b[0m\u001b[0mmdl\u001b[0m\u001b[0;34m,\u001b[0m \u001b[0mresults\u001b[0m\u001b[0;34m.\u001b[0m\u001b[0mjoin\u001b[0m\u001b[0;34m(\u001b[0m\u001b[0;34m', '\u001b[0m\u001b[0;34m)\u001b[0m\u001b[0;34m)\u001b[0m\u001b[0;34m\u001b[0m\u001b[0;34m\u001b[0m\u001b[0m\n\u001b[0m",
      "\u001b[0;31mAttributeError\u001b[0m: 'list' object has no attribute 'join'"
     ]
    }
   ],
   "source": [
    "color_space = [cv2.COLOR_BGR2LAB]#, cv2.COLOR_BGR2YCrCb, cv2.COLOR_BGR2LAB]\n",
    "\n",
    "for color in color_space:\n",
    "    (train_X, train_Y) = load_images(color)\n",
    "\n",
    "    train_X = np.asarray(train_X)\n",
    "    train_Y = np.asarray(train_Y)\n",
    "\n",
    "    (train_X, test_X, train_Y, test_Y) = train_test_split(train_X, train_Y, test_size=0.2, random_state=42)\n",
    "\n",
    "\n",
    "\n",
    "    print(train_X.shape)\n",
    "\n",
    "    print(train_Y[0:100])\n",
    "    mdl = keras.Sequential()\n",
    "    # THIS                                                                  \\/ is the input shape. In our case 1x600x600\n",
    "    mdl.add(Convolution2D(32, (3, 3), activation ='relu', input_shape =(picture_width, picture_height, 3), data_format='channels_first')) \n",
    "    mdl.add(Convolution2D(28, 2, 2, activation='relu'))\n",
    "    mdl.add(MaxPooling2D(pool_size=(2,2)))\n",
    "    mdl.add(Dropout(0.25))\n",
    "\n",
    "    mdl.add(Flatten())\n",
    "    mdl.add(Dense(128, activation='relu'))\n",
    "    mdl.add(Dropout(0.5))\n",
    "    #THIS         \\/ i the output shape. In out case we will need 2-real and fake\n",
    "    mdl.add(Dense(2, activation='softmax'))\n",
    "    train_Y = np_utils.to_categorical(train_Y, 2)\n",
    "    test_Y = np_utils.to_categorical(test_Y, 2)\n",
    "    mdl.compile(loss='binary_crossentropy', optimizer='sgd', metrics=['accuracy'])\n",
    "    mdl.fit(train_X, train_Y, batch_size=32, nb_epoch=50, verbose=1)\n",
    "    results = mdl.evaluate(test_X, test_Y, verbose=0)\n",
    "    save_model(mdl, color)"
   ]
  },
  {
   "cell_type": "code",
   "execution_count": null,
   "metadata": {
    "colab": {
     "base_uri": "https://localhost:8080/",
     "height": 516
    },
    "colab_type": "code",
    "id": "GMwx-DPc-C0c",
    "outputId": "7a6a6020-3d59-42d1-ca54-81b9ed562d27"
   },
   "outputs": [
    {
     "name": "stdout",
     "output_type": "stream",
     "text": [
      "WARNING:tensorflow:From /usr/local/lib/python3.6/dist-packages/keras/backend/tensorflow_backend.py:66: The name tf.get_default_graph is deprecated. Please use tf.compat.v1.get_default_graph instead.\n",
      "\n",
      "WARNING:tensorflow:From /usr/local/lib/python3.6/dist-packages/keras/backend/tensorflow_backend.py:541: The name tf.placeholder is deprecated. Please use tf.compat.v1.placeholder instead.\n",
      "\n",
      "WARNING:tensorflow:From /usr/local/lib/python3.6/dist-packages/keras/backend/tensorflow_backend.py:4432: The name tf.random_uniform is deprecated. Please use tf.random.uniform instead.\n",
      "\n",
      "WARNING:tensorflow:From /usr/local/lib/python3.6/dist-packages/keras/backend/tensorflow_backend.py:190: The name tf.get_default_session is deprecated. Please use tf.compat.v1.get_default_session instead.\n",
      "\n",
      "WARNING:tensorflow:From /usr/local/lib/python3.6/dist-packages/keras/backend/tensorflow_backend.py:197: The name tf.ConfigProto is deprecated. Please use tf.compat.v1.ConfigProto instead.\n",
      "\n",
      "WARNING:tensorflow:From /usr/local/lib/python3.6/dist-packages/keras/backend/tensorflow_backend.py:203: The name tf.Session is deprecated. Please use tf.compat.v1.Session instead.\n",
      "\n",
      "WARNING:tensorflow:From /usr/local/lib/python3.6/dist-packages/keras/backend/tensorflow_backend.py:207: The name tf.global_variables is deprecated. Please use tf.compat.v1.global_variables instead.\n",
      "\n",
      "WARNING:tensorflow:From /usr/local/lib/python3.6/dist-packages/keras/backend/tensorflow_backend.py:216: The name tf.is_variable_initialized is deprecated. Please use tf.compat.v1.is_variable_initialized instead.\n",
      "\n",
      "WARNING:tensorflow:From /usr/local/lib/python3.6/dist-packages/keras/backend/tensorflow_backend.py:223: The name tf.variables_initializer is deprecated. Please use tf.compat.v1.variables_initializer instead.\n",
      "\n",
      "WARNING:tensorflow:From /usr/local/lib/python3.6/dist-packages/keras/backend/tensorflow_backend.py:4267: The name tf.nn.max_pool is deprecated. Please use tf.nn.max_pool2d instead.\n",
      "\n",
      "WARNING:tensorflow:From /usr/local/lib/python3.6/dist-packages/keras/backend/tensorflow_backend.py:148: The name tf.placeholder_with_default is deprecated. Please use tf.compat.v1.placeholder_with_default instead.\n",
      "\n",
      "WARNING:tensorflow:From /usr/local/lib/python3.6/dist-packages/keras/backend/tensorflow_backend.py:3733: calling dropout (from tensorflow.python.ops.nn_ops) with keep_prob is deprecated and will be removed in a future version.\n",
      "Instructions for updating:\n",
      "Please use `rate` instead of `keep_prob`. Rate should be set to `rate = 1 - keep_prob`.\n"
     ]
    },
    {
     "name": "stderr",
     "output_type": "stream",
     "text": [
      "/usr/local/lib/python3.6/dist-packages/ipykernel_launcher.py:4: UserWarning: Update your `Conv2D` call to the Keras 2 API: `Conv2D(28, (2, 2), activation=\"relu\")`\n",
      "  after removing the cwd from sys.path.\n"
     ]
    }
   ],
   "source": []
  },
  {
   "cell_type": "code",
   "execution_count": null,
   "metadata": {
    "colab": {},
    "colab_type": "code",
    "id": "RHKqtbl5-G-o"
   },
   "outputs": [],
   "source": [
    "    #THIS                                                \\/ Should also be 1x600x600\n",
    "    # train_X = train_X.reshape(train_X.shape[0], 600, 600, 3)\n",
    "    # train_X = train_X.astype('float32')\n",
    "    # train_X /= 255\n",
    "\n",
    "    # print(train_X)\n",
    "\n",
    "    # test_X = test_X.reshape(test_X.shape[0], 600, 600, 3)\n",
    "    # test_X = test_X.astype('float32')\n",
    "    # test_X /= 255\n",
    "    # #THIS                                          \\/ Should be 2\n"
   ]
  },
  {
   "cell_type": "code",
   "execution_count": null,
   "metadata": {
    "colab": {
     "base_uri": "https://localhost:8080/",
     "height": 1000
    },
    "colab_type": "code",
    "id": "X1Z7HB6B-KZs",
    "outputId": "99d28b3b-3955-4b2f-89f3-c9b54cc51615"
   },
   "outputs": [
    {
     "name": "stdout",
     "output_type": "stream",
     "text": [
      "WARNING:tensorflow:From /usr/local/lib/python3.6/dist-packages/keras/optimizers.py:793: The name tf.train.Optimizer is deprecated. Please use tf.compat.v1.train.Optimizer instead.\n",
      "\n",
      "WARNING:tensorflow:From /usr/local/lib/python3.6/dist-packages/keras/backend/tensorflow_backend.py:3657: The name tf.log is deprecated. Please use tf.math.log instead.\n",
      "\n",
      "WARNING:tensorflow:From /usr/local/lib/python3.6/dist-packages/tensorflow_core/python/ops/nn_impl.py:183: where (from tensorflow.python.ops.array_ops) is deprecated and will be removed in a future version.\n",
      "Instructions for updating:\n",
      "Use tf.where in 2.0, which has the same broadcast rule as np.where\n"
     ]
    },
    {
     "name": "stderr",
     "output_type": "stream",
     "text": [
      "/usr/local/lib/python3.6/dist-packages/ipykernel_launcher.py:3: UserWarning: The `nb_epoch` argument in `fit` has been renamed `epochs`.\n",
      "  This is separate from the ipykernel package so we can avoid doing imports until\n"
     ]
    },
    {
     "name": "stdout",
     "output_type": "stream",
     "text": [
      "WARNING:tensorflow:From /usr/local/lib/python3.6/dist-packages/keras/backend/tensorflow_backend.py:1033: The name tf.assign_add is deprecated. Please use tf.compat.v1.assign_add instead.\n",
      "\n",
      "WARNING:tensorflow:From /usr/local/lib/python3.6/dist-packages/keras/backend/tensorflow_backend.py:1020: The name tf.assign is deprecated. Please use tf.compat.v1.assign instead.\n",
      "\n",
      "Epoch 1/50\n",
      "1632/1632 [==============================] - 8s 5ms/step - loss: 0.6953 - acc: 0.5172\n",
      "Epoch 2/50\n",
      "1632/1632 [==============================] - 7s 4ms/step - loss: 0.6937 - acc: 0.5006\n",
      "Epoch 3/50\n",
      "1632/1632 [==============================] - 7s 4ms/step - loss: 0.6887 - acc: 0.5245\n",
      "Epoch 4/50\n",
      "1632/1632 [==============================] - 7s 4ms/step - loss: 0.6863 - acc: 0.5288\n",
      "Epoch 5/50\n",
      "1632/1632 [==============================] - 7s 4ms/step - loss: 0.6838 - acc: 0.5515\n",
      "Epoch 6/50\n",
      "1632/1632 [==============================] - 7s 4ms/step - loss: 0.6852 - acc: 0.5631\n",
      "Epoch 7/50\n",
      "1632/1632 [==============================] - 7s 4ms/step - loss: 0.6840 - acc: 0.5564\n",
      "Epoch 8/50\n",
      "1632/1632 [==============================] - 7s 4ms/step - loss: 0.6779 - acc: 0.5625\n",
      "Epoch 9/50\n",
      "1632/1632 [==============================] - 7s 4ms/step - loss: 0.6779 - acc: 0.5674\n",
      "Epoch 10/50\n",
      "1632/1632 [==============================] - 7s 4ms/step - loss: 0.6750 - acc: 0.5754\n",
      "Epoch 11/50\n",
      "1632/1632 [==============================] - 7s 4ms/step - loss: 0.6699 - acc: 0.5846\n",
      "Epoch 12/50\n",
      "1632/1632 [==============================] - 7s 4ms/step - loss: 0.6687 - acc: 0.5870\n",
      "Epoch 13/50\n",
      "1632/1632 [==============================] - 7s 4ms/step - loss: 0.6665 - acc: 0.5925\n",
      "Epoch 14/50\n",
      "1632/1632 [==============================] - 7s 4ms/step - loss: 0.6687 - acc: 0.5968\n",
      "Epoch 15/50\n",
      "1632/1632 [==============================] - 7s 4ms/step - loss: 0.6600 - acc: 0.5827\n",
      "Epoch 16/50\n",
      "1632/1632 [==============================] - 7s 4ms/step - loss: 0.6616 - acc: 0.6097\n",
      "Epoch 17/50\n",
      "1632/1632 [==============================] - 7s 4ms/step - loss: 0.6620 - acc: 0.6158\n",
      "Epoch 18/50\n",
      "1632/1632 [==============================] - 7s 4ms/step - loss: 0.6576 - acc: 0.6115\n",
      "Epoch 19/50\n",
      "1632/1632 [==============================] - 7s 4ms/step - loss: 0.6572 - acc: 0.6127\n",
      "Epoch 20/50\n",
      "1632/1632 [==============================] - 7s 4ms/step - loss: 0.6548 - acc: 0.6176\n",
      "Epoch 21/50\n",
      "1632/1632 [==============================] - 7s 4ms/step - loss: 0.6581 - acc: 0.6164\n",
      "Epoch 22/50\n",
      "1632/1632 [==============================] - 7s 4ms/step - loss: 0.6466 - acc: 0.6366\n",
      "Epoch 23/50\n",
      "1632/1632 [==============================] - 7s 4ms/step - loss: 0.6497 - acc: 0.6183\n",
      "Epoch 24/50\n",
      "1632/1632 [==============================] - 7s 4ms/step - loss: 0.6464 - acc: 0.6232\n",
      "Epoch 25/50\n",
      "1632/1632 [==============================] - 7s 4ms/step - loss: 0.6467 - acc: 0.6342\n",
      "Epoch 26/50\n",
      "1632/1632 [==============================] - 7s 4ms/step - loss: 0.6373 - acc: 0.6403\n",
      "Epoch 27/50\n",
      "1632/1632 [==============================] - 7s 4ms/step - loss: 0.6368 - acc: 0.6409\n",
      "Epoch 28/50\n",
      "1632/1632 [==============================] - 7s 4ms/step - loss: 0.6350 - acc: 0.6446\n",
      "Epoch 29/50\n",
      "1632/1632 [==============================] - 7s 4ms/step - loss: 0.6320 - acc: 0.6415\n",
      "Epoch 30/50\n",
      "1632/1632 [==============================] - 7s 4ms/step - loss: 0.6360 - acc: 0.6458\n",
      "Epoch 31/50\n",
      "1632/1632 [==============================] - 7s 4ms/step - loss: 0.6302 - acc: 0.6477\n",
      "Epoch 32/50\n",
      "1632/1632 [==============================] - 7s 4ms/step - loss: 0.6333 - acc: 0.6446\n",
      "Epoch 33/50\n",
      "1632/1632 [==============================] - 7s 4ms/step - loss: 0.6258 - acc: 0.6458\n",
      "Epoch 34/50\n",
      "1632/1632 [==============================] - 7s 4ms/step - loss: 0.6363 - acc: 0.6391\n",
      "Epoch 35/50\n",
      "1632/1632 [==============================] - 7s 4ms/step - loss: 0.6245 - acc: 0.6550\n",
      "Epoch 36/50\n",
      "1632/1632 [==============================] - 7s 4ms/step - loss: 0.6184 - acc: 0.6642\n",
      "Epoch 37/50\n",
      "1632/1632 [==============================] - 7s 4ms/step - loss: 0.6231 - acc: 0.6605\n",
      "Epoch 38/50\n",
      "1632/1632 [==============================] - 7s 4ms/step - loss: 0.6125 - acc: 0.6679\n",
      "Epoch 39/50\n",
      "1632/1632 [==============================] - 7s 4ms/step - loss: 0.6156 - acc: 0.6710\n",
      "Epoch 40/50\n",
      "1632/1632 [==============================] - 7s 4ms/step - loss: 0.6063 - acc: 0.6740\n",
      "Epoch 41/50\n",
      "1632/1632 [==============================] - 7s 4ms/step - loss: 0.6012 - acc: 0.6667\n",
      "Epoch 42/50\n",
      "1632/1632 [==============================] - 7s 4ms/step - loss: 0.6050 - acc: 0.6654\n",
      "Epoch 43/50\n",
      "1632/1632 [==============================] - 7s 4ms/step - loss: 0.5962 - acc: 0.6789\n",
      "Epoch 44/50\n",
      "1632/1632 [==============================] - 7s 4ms/step - loss: 0.5965 - acc: 0.6826\n",
      "Epoch 45/50\n",
      "1632/1632 [==============================] - 7s 4ms/step - loss: 0.5930 - acc: 0.6942\n",
      "Epoch 46/50\n",
      "1632/1632 [==============================] - 7s 4ms/step - loss: 0.5933 - acc: 0.6906\n",
      "Epoch 47/50\n",
      "1632/1632 [==============================] - 7s 4ms/step - loss: 0.5922 - acc: 0.6857\n",
      "Epoch 48/50\n",
      "1632/1632 [==============================] - 7s 4ms/step - loss: 0.5908 - acc: 0.6820\n",
      "Epoch 49/50\n",
      "1632/1632 [==============================] - 7s 4ms/step - loss: 0.5948 - acc: 0.6734\n",
      "Epoch 50/50\n",
      "1632/1632 [==============================] - 7s 4ms/step - loss: 0.5854 - acc: 0.7022\n"
     ]
    },
    {
     "data": {
      "text/plain": [
       "<keras.callbacks.History at 0x7f7ce4f9c630>"
      ]
     },
     "execution_count": 19,
     "metadata": {
      "tags": []
     },
     "output_type": "execute_result"
    }
   ],
   "source": []
  },
  {
   "cell_type": "code",
   "execution_count": null,
   "metadata": {
    "colab": {
     "base_uri": "https://localhost:8080/",
     "height": 34
    },
    "colab_type": "code",
    "id": "MWZfzA0q-ME0",
    "outputId": "ceceb86f-6315-413a-8bdc-5ae4039dd75d"
   },
   "outputs": [
    {
     "data": {
      "text/plain": [
       "[0.6785777900504599, 0.6283618583364416]"
      ]
     },
     "execution_count": 20,
     "metadata": {
      "tags": []
     },
     "output_type": "execute_result"
    }
   ],
   "source": []
  },
  {
   "cell_type": "code",
   "execution_count": null,
   "metadata": {
    "colab": {},
    "colab_type": "code",
    "id": "MLh--hax-OH-"
   },
   "outputs": [],
   "source": [
    "\n",
    "\n",
    "\n",
    "\n",
    "# freshly_baked_model = load_model()\n",
    "# freshly_baked_model.compile(loss='mean_squared_error', optimizer='adam', metrics=['accuracy'])"
   ]
  },
  {
   "cell_type": "code",
   "execution_count": null,
   "metadata": {
    "colab": {},
    "colab_type": "code",
    "id": "7x2vmgg0IT7y"
   },
   "outputs": [],
   "source": [
    "def check_the_picture(img, model):\n",
    "  return np.argmax(model.predict(np.expand_dims(img, axis=0))) == 1\n",
    "  \n",
    "def compile_model():\n",
    "  model = load_model()\n",
    "  model.compile(loss='mean_squared_error', optimizer='adam', metrics=['accuracy'])\n",
    "  return model\n",
    "\n",
    "model = compile_model()\n",
    "  "
   ]
  },
  {
   "cell_type": "code",
   "execution_count": null,
   "metadata": {
    "colab": {
     "base_uri": "https://localhost:8080/",
     "height": 285
    },
    "colab_type": "code",
    "id": "a4hbXSxd-Oxv",
    "outputId": "94e93165-43d4-4875-9a90-bb90e963183f"
   },
   "outputs": [
    {
     "name": "stdout",
     "output_type": "stream",
     "text": [
      "REAL Picture\n"
     ]
    },
    {
     "data": {
      "image/png": "[encoded data removed]",
      "text/plain": [
       "<Figure size 432x288 with 1 Axes>"
      ]
     },
     "metadata": {
      "tags": []
     },
     "output_type": "display_data"
    }
   ],
   "source": [
    "rand_index = randint(0, test_X.shape[0])\n",
    "rand_pic = test_X[rand_index]\n",
    "if(check_the_picture(rand_pic, model)):\n",
    "  print('REAL Picture')\n",
    "else:\n",
    "  print('FAKE Picture')\n",
    "  \n",
    "\n",
    "# rand_index = randint(0, test_X.shape[0] )\n",
    "# rand_pic = test_X[rand_index]\n",
    "# if np.argmax(freshly_baked_model.predict(np.expand_dims(rand_pic, axis=0))) == 1:\n",
    "#   print('REAL Picture')\n",
    "# else:\n",
    "#   print('FAKE Picture')\n",
    "\n",
    "plt.imshow(rand_pic, interpolation='nearest')\n",
    "plt.show()\n"
   ]
  }
 ],
 "metadata": {
  "accelerator": "TPU",
  "colab": {
   "collapsed_sections": [],
   "name": "KMSSSS.ipynb",
   "provenance": []
  },
  "kernelspec": {
   "display_name": "Python 3",
   "language": "python",
   "name": "python3"
  },
  "language_info": {
   "codemirror_mode": {
    "name": "ipython",
    "version": 3
   },
   "file_extension": ".py",
   "mimetype": "text/x-python",
   "name": "python",
   "nbconvert_exporter": "python",
   "pygments_lexer": "ipython3",
   "version": "3.6.9"
  }
 },
 "nbformat": 4,
 "nbformat_minor": 4
}
